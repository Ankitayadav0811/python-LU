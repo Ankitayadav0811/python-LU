{
 "cells": [
  {
   "cell_type": "markdown",
   "metadata": {},
   "source": [
    "# Assignment 1:"
   ]
  },
  {
   "cell_type": "code",
   "execution_count": 3,
   "metadata": {},
   "outputs": [
    {
     "name": "stdout",
     "output_type": "stream",
     "text": [
      "enter no: 10\n",
      "55\n"
     ]
    }
   ],
   "source": [
    "n= input(\"enter no: \")\n",
    "n= int(n)\n",
    "total = 0\n",
    "i= 1 \n",
    "while i<=n:\n",
    "    total+=i\n",
    "    i+=1 \n",
    "print(total)    "
   ]
  },
  {
   "cell_type": "markdown",
   "metadata": {},
   "source": [
    "# Assignment2:\n"
   ]
  },
  {
   "cell_type": "code",
   "execution_count": 25,
   "metadata": {},
   "outputs": [
    {
     "name": "stdout",
     "output_type": "stream",
     "text": [
      "enter a no.6\n",
      " not prime\n"
     ]
    }
   ],
   "source": [
    "num = int(input(\"enter a no.\"))\n",
    "if num > 1:\n",
    "    for i in range (2,num):\n",
    "        if (num % i) == 0:\n",
    "            print(\" not prime\")\n",
    "            break\n",
    "    else:\n",
    "            print(\"prime\")\n",
    "else:\n",
    "    print(\"not prime\")"
   ]
  }
 ],
 "metadata": {
  "kernelspec": {
   "display_name": "Python 3",
   "language": "python",
   "name": "python3"
  },
  "language_info": {
   "codemirror_mode": {
    "name": "ipython",
    "version": 3
   },
   "file_extension": ".py",
   "mimetype": "text/x-python",
   "name": "python",
   "nbconvert_exporter": "python",
   "pygments_lexer": "ipython3",
   "version": "3.7.6"
  }
 },
 "nbformat": 4,
 "nbformat_minor": 4
}
